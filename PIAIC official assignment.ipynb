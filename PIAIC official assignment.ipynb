{
 "cells": [
  {
   "cell_type": "markdown",
   "metadata": {},
   "source": [
    "# 1. Calculate Area of a Circle"
   ]
  },
  {
   "cell_type": "markdown",
   "metadata": {},
   "source": [
    "Write a Python program which accepts the radius of a circle from the user and compute the area.\n",
    "Program Console Sample Output 1:\n",
    "Input Radius: 0.5\n",
    "Area of Circle with radius 0.5 is 0.785398163"
   ]
  },
  {
   "cell_type": "code",
   "execution_count": 20,
   "metadata": {},
   "outputs": [
    {
     "name": "stdout",
     "output_type": "stream",
     "text": [
      "Please enter the radius of that circle which you want to find the area:3.5\n",
      "The area of this circle is 38.4895\n"
     ]
    }
   ],
   "source": [
    "Radius = float(input(\"Please enter the radius of that circle which you want to find the area:\"))\n",
    "Area = 3.142 *(Radius**2)\n",
    "print(f\"The area of this circle is {Area}\")"
   ]
  },
  {
   "cell_type": "markdown",
   "metadata": {},
   "source": [
    "# 2. Check Number either positive, negative or zero"
   ]
  },
  {
   "cell_type": "markdown",
   "metadata": {},
   "source": [
    "Write a Python program to check if a number is positive, negative or zero\n",
    "Program Console Sample Output 1:\n",
    "Enter Number: -1\n",
    "Negative Number Entered\n",
    "Program Console Sample Output 2:\n",
    "Integer: 3\n",
    "Positive Number Entered\n",
    "Program Console Sample Output 3:\n",
    "Integer: 0\n",
    "Zero Entered# "
   ]
  },
  {
   "cell_type": "code",
   "execution_count": 26,
   "metadata": {},
   "outputs": [
    {
     "ename": "SyntaxError",
     "evalue": "invalid syntax (<ipython-input-26-8c7fa8ee1ed0>, line 2)",
     "output_type": "error",
     "traceback": [
      "\u001b[1;36m  File \u001b[1;32m\"<ipython-input-26-8c7fa8ee1ed0>\"\u001b[1;36m, line \u001b[1;32m2\u001b[0m\n\u001b[1;33m    if Seleted_number==0\u001b[0m\n\u001b[1;37m                        ^\u001b[0m\n\u001b[1;31mSyntaxError\u001b[0m\u001b[1;31m:\u001b[0m invalid syntax\n"
     ]
    }
   ],
   "source": [
    "Seleted_number = int(input(\"Please enter a number:\"))\n",
    "if Seleted_number==0\n",
    "    print(\"You were typed 0.\")\n",
    "elif Seleted_number > 0\n",
    "    print(\"You were typed a positive number.\")\n",
    "else\n",
    "    print(\"You were typed a negative number.\")"
   ]
  },
  {
   "cell_type": "code",
   "execution_count": null,
   "metadata": {},
   "outputs": [],
   "source": []
  }
 ],
 "metadata": {
  "kernelspec": {
   "display_name": "Python 3",
   "language": "python",
   "name": "python3"
  },
  "language_info": {
   "codemirror_mode": {
    "name": "ipython",
    "version": 3
   },
   "file_extension": ".py",
   "mimetype": "text/x-python",
   "name": "python",
   "nbconvert_exporter": "python",
   "pygments_lexer": "ipython3",
   "version": "3.7.3"
  }
 },
 "nbformat": 4,
 "nbformat_minor": 2
}
