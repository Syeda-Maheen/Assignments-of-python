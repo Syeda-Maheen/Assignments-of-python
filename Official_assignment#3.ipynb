{
 "cells": [
  {
   "cell_type": "markdown",
   "metadata": {},
   "source": [
    "# Q1:"
   ]
  },
  {
   "cell_type": "markdown",
   "metadata": {},
   "source": [
    "Think of at least three kinds of your favorite pizza. Store these pizza names in a list, and then use a for loop to print the name of each pizza."
   ]
  },
  {
   "cell_type": "code",
   "execution_count": 14,
   "metadata": {},
   "outputs": [
    {
     "name": "stdout",
     "output_type": "stream",
     "text": [
      "cheesy\n",
      "fajita\n",
      "tikka\n",
      "vegetable\n"
     ]
    }
   ],
   "source": [
    "pizzas = ['cheesy','fajita','tikka','vegetable']\n",
    "for i in pizzas:\n",
    "    print(i)"
   ]
  },
  {
   "cell_type": "code",
   "execution_count": null,
   "metadata": {},
   "outputs": [],
   "source": []
  },
  {
   "cell_type": "code",
   "execution_count": null,
   "metadata": {},
   "outputs": [],
   "source": []
  },
  {
   "cell_type": "markdown",
   "metadata": {},
   "source": [
    "# Q2"
   ]
  },
  {
   "cell_type": "markdown",
   "metadata": {},
   "source": [
    "Start with your last question , Modify your for loop to print a sentence using the name of the pizza\n",
    "instead of printing just the name of the pizza. For each pizza you should\n",
    "have one line of output containing a simple statement like I like pepperoni\n",
    "pizza."
   ]
  },
  {
   "cell_type": "code",
   "execution_count": 2,
   "metadata": {},
   "outputs": [
    {
     "name": "stdout",
     "output_type": "stream",
     "text": [
      "I like cheesy pizzas\n",
      "I like fajita pizzas\n",
      "I like tikka pizzas\n",
      "I like vegetable pizzas\n"
     ]
    }
   ],
   "source": [
    "pizzas = ['cheesy','fajita','tikka','vegetable']\n",
    "for i in pizzas:\n",
    "    print('I like' + ' '+ i + ' ' +  'pizzas')"
   ]
  },
  {
   "cell_type": "code",
   "execution_count": null,
   "metadata": {},
   "outputs": [],
   "source": []
  },
  {
   "cell_type": "code",
   "execution_count": null,
   "metadata": {},
   "outputs": [],
   "source": []
  },
  {
   "cell_type": "markdown",
   "metadata": {},
   "source": [
    "# Q3:"
   ]
  },
  {
   "cell_type": "markdown",
   "metadata": {},
   "source": [
    "Use a for loop to print the numbers from 1 to 20,\n",
    "inclusive."
   ]
  },
  {
   "cell_type": "code",
   "execution_count": 7,
   "metadata": {},
   "outputs": [
    {
     "name": "stdout",
     "output_type": "stream",
     "text": [
      "1 2 3 4 5 6 7 8 9 10 11 12 13 14 15 16 17 18 19 20 "
     ]
    }
   ],
   "source": [
    "for i in range(1,21):\n",
    "    print(i ,end = ' ')"
   ]
  },
  {
   "cell_type": "code",
   "execution_count": null,
   "metadata": {},
   "outputs": [],
   "source": []
  },
  {
   "cell_type": "code",
   "execution_count": null,
   "metadata": {},
   "outputs": [],
   "source": []
  },
  {
   "cell_type": "markdown",
   "metadata": {},
   "source": [
    "# Q4:"
   ]
  },
  {
   "cell_type": "markdown",
   "metadata": {},
   "source": [
    "Use the third argument of the range() function to make a list\n",
    "of the odd numbers from 1 to 20. Use a for loop to print each number."
   ]
  },
  {
   "cell_type": "code",
   "execution_count": 30,
   "metadata": {},
   "outputs": [
    {
     "name": "stdout",
     "output_type": "stream",
     "text": [
      "[1, 3, 5, 7, 9, 11, 13, 15, 17, 19]\n"
     ]
    }
   ],
   "source": [
    "odd_num = []\n",
    "for i in range(1,21,2):\n",
    "    odd_num.append(i)\n",
    "print(odd_num)"
   ]
  },
  {
   "cell_type": "code",
   "execution_count": null,
   "metadata": {},
   "outputs": [],
   "source": []
  },
  {
   "cell_type": "code",
   "execution_count": null,
   "metadata": {},
   "outputs": [],
   "source": []
  },
  {
   "cell_type": "markdown",
   "metadata": {},
   "source": [
    "# Q5:"
   ]
  },
  {
   "cell_type": "markdown",
   "metadata": {},
   "source": [
    "Make a list of the multiples of 3 from 3 to 30. Use a for loop to\n",
    "print the numbers in your list."
   ]
  },
  {
   "cell_type": "code",
   "execution_count": 95,
   "metadata": {},
   "outputs": [
    {
     "name": "stdout",
     "output_type": "stream",
     "text": [
      "[3, 6, 9, 12, 15, 18, 21, 24, 27, 30]\n"
     ]
    }
   ],
   "source": [
    "multiples = []\n",
    "for i in range(1,11):\n",
    "    val = i*3\n",
    "    multiples.append(val)\n",
    "print(multiples)"
   ]
  },
  {
   "cell_type": "markdown",
   "metadata": {},
   "source": [
    "# Q6:"
   ]
  },
  {
   "cell_type": "markdown",
   "metadata": {},
   "source": [
    "A number raised to the third power is called a cube. For example,\n",
    "the cube of 2 is written as 2**3 in Python. Make a list of the first 10 cubes (that\n",
    "is, the cube of each integer from 1 through 10), and use a for loop to print out\n",
    "the value of each cube"
   ]
  },
  {
   "cell_type": "code",
   "execution_count": 37,
   "metadata": {},
   "outputs": [
    {
     "name": "stdout",
     "output_type": "stream",
     "text": [
      "[1, 8, 27, 64, 125, 216, 343, 512, 729, 1000]\n"
     ]
    }
   ],
   "source": [
    "sq = []\n",
    "for i in range(1,11):\n",
    "    v = i**3\n",
    "    sq.append(v)\n",
    "print(sq)\n"
   ]
  },
  {
   "cell_type": "markdown",
   "metadata": {},
   "source": [
    "# Q7:"
   ]
  },
  {
   "cell_type": "markdown",
   "metadata": {},
   "source": [
    "###### Make a python program that conatains your nine favourite dishes in a list called foods.\n",
    "\n",
    "###### Print the message, The first three items in the list are:. \n",
    "###### Then use a slice to print the first three items from that program’s list.\n",
    "\n",
    "###### Print the message, Three items from the middle of the list are:\n",
    "###### Use a slice to print three items from the middle of the list.\n",
    "\n",
    "###### Print the message, The last three items in the list are:\n",
    "###### Use a slice to print the last three items in the list."
   ]
  },
  {
   "cell_type": "code",
   "execution_count": 39,
   "metadata": {},
   "outputs": [
    {
     "name": "stdout",
     "output_type": "stream",
     "text": [
      "The first 3 items in the list are: ['biryani', 'tikka', 'pizza']\n"
     ]
    }
   ],
   "source": [
    "foods = ['biryani', 'tikka','pizza','chaowmein','singaporean rice','burgers','pasta','shashlik']\n",
    "print(f'The first 3 items in the list are: {foods[:3]}'  )"
   ]
  },
  {
   "cell_type": "code",
   "execution_count": 40,
   "metadata": {},
   "outputs": [
    {
     "name": "stdout",
     "output_type": "stream",
     "text": [
      "The first 3 items in the middle of the list are: ['chaowmein', 'singaporean rice']\n"
     ]
    }
   ],
   "source": [
    "foods = ['biryani', 'tikka','pizza','chaowmein','singaporean rice','burgers','pasta','shashlik']\n",
    "print(f'The first 3 items in the middle of the list are: {foods[3:5]}'  )"
   ]
  },
  {
   "cell_type": "code",
   "execution_count": 41,
   "metadata": {},
   "outputs": [
    {
     "name": "stdout",
     "output_type": "stream",
     "text": [
      "The first 3 items in the last of the list are: ['burgers', 'pasta', 'shashlik']\n"
     ]
    }
   ],
   "source": [
    "foods = ['biryani', 'tikka','pizza','chaowmein','singaporean rice','burgers','pasta','shashlik']\n",
    "print(f'The first 3 items in the last of the list are: {foods[5:]}'  )"
   ]
  },
  {
   "cell_type": "markdown",
   "metadata": {},
   "source": [
    "# Q8:"
   ]
  },
  {
   "cell_type": "markdown",
   "metadata": {},
   "source": [
    "### Start with your program from your last Question8.\n",
    "###### Make a copy of the list of foods, and call it friend_foods.\n",
    "###### Then, do the following:\n",
    "######    Add a new dish to the original list.\n",
    "######    Add a different dish to the list friend_foodss.\n",
    "######    Prove that you have two separate lists. \n",
    "###### Print the message, My favorite pizzas are: and then use a for loop to print the first list. \n",
    "###### Print the message,\n",
    "###### My friend’s favorite foods are:, and then use a for loop to print the second list.\n",
    "    \n",
    "##### NOTE: Make sure each new dish is stored in the appropriate list."
   ]
  },
  {
   "cell_type": "code",
   "execution_count": 74,
   "metadata": {},
   "outputs": [
    {
     "name": "stdout",
     "output_type": "stream",
     "text": [
      "My favorite foods are: [['biryani', 'tikka', 'pizza', 'chaowmein', 'singaporean rice', 'burgers', 'pasta', 'shashlik', 'Malaai Boti']]\n",
      "My friends fav food are: [['biryani', 'tikka', 'pizza', 'chaowmein', 'singaporean rice', 'burgers', 'pasta', 'shashlik', 'Seekh kabaaab']]\n"
     ]
    }
   ],
   "source": [
    "foods = ['biryani', 'tikka','pizza','chaowmein','singaporean rice','burgers','pasta','shashlik']\n",
    "friends_food = foods.copy()\n",
    "#print(friends_food)\n",
    "foods.append('Malaai Boti')\n",
    "friends_food.append('Seekh kabaaab')\n",
    "#print(foods)\n",
    "#print(friends_food)\n",
    "f = []\n",
    "f.append(foods)\n",
    "for i in f:\n",
    "    print(f'My favorite foods are: {f}')\n",
    "fr_f = []\n",
    "fr_f.append(friends_food)\n",
    "for j in fr_f:\n",
    "    print(f'My friends fav food are: {fr_f}')"
   ]
  },
  {
   "cell_type": "markdown",
   "metadata": {},
   "source": [
    "# Q9:"
   ]
  },
  {
   "cell_type": "code",
   "execution_count": null,
   "metadata": {},
   "outputs": [],
   "source": [
    "# Take a user input from console line.Store it in a variable called Alien_color.\n",
    "\n",
    "#If the alien’s color is red, print a statement that the player just earned 5 points for shooting the alien.\n",
    "\n",
    "#If the alien’s color isn’t green, print a statement that the player just earned 10 points.\n",
    "\n",
    "#If the alien's color isn't red or green , print a statment :, Alien is no more..."
   ]
  },
  {
   "cell_type": "code",
   "execution_count": 84,
   "metadata": {},
   "outputs": [
    {
     "name": "stdout",
     "output_type": "stream",
     "text": [
      "Choose a color: RED\n",
      "The Player just earned 5 points for shooting the Alien\n"
     ]
    }
   ],
   "source": [
    "Alien_color = input('Choose a color: ')\n",
    "if Alien_color == 'red'.title().upper():\n",
    "    print('The Player just earned 5 points for shooting the Alien')\n",
    "elif Alien_color == 'green'.title().upper():\n",
    "    print('the player just earned 10 points.')\n",
    "else:\n",
    "    print('Alien is no more...')\n",
    "    "
   ]
  },
  {
   "cell_type": "markdown",
   "metadata": {},
   "source": [
    "# Q10:"
   ]
  },
  {
   "cell_type": "markdown",
   "metadata": {},
   "source": [
    "Write an if-elif-else chain that determines a person’s\n",
    "stage of life. Set a value for the variable age, and then:\n",
    "    \n",
    "•\t If the person is less than 2 years old, print a message that the person is a baby.\n",
    "\n",
    "•\t If the person is at least 2 years old but less than 4, print a message that the person is a toddler.\n",
    "\n",
    "•\t If the person is at least 4 years old but less than 13, print a message that the person is a kid.\n",
    "\n",
    "•\t If the person is at least 13 years old but less than 20, print a message that the person is a teenager.\n",
    "\n",
    "•\t If the person is at least 20 years old but less than 65, print a message that the person is an adult.\n",
    "\n",
    "•\t If the person is age 65 or older, print a message that the person is an elder."
   ]
  },
  {
   "cell_type": "code",
   "execution_count": 104,
   "metadata": {},
   "outputs": [
    {
     "name": "stdout",
     "output_type": "stream",
     "text": [
      "Enter your age: 34\n",
      "the person is a adult.\n"
     ]
    }
   ],
   "source": [
    "persons_age = int(input('Enter your age: '))\n",
    "if persons_age < 2:\n",
    "    print('The person is a baby.')\n",
    "elif persons_age == 2  or persons_age < 4:\n",
    "    print('the person is a toddler.')\n",
    "elif  persons_age ==4 or persons_age < 13:\n",
    "    print(' the person is a kid.')\n",
    "elif  persons_age ==13 or persons_age < 20:\n",
    "     print('the person is a teenager.')\n",
    "elif  persons_age ==20 or persons_age < 65:\n",
    "     print('the person is a adult.')\n",
    "else:\n",
    "    print('the person is an elder.')\n",
    "    \n",
    "\n",
    "        "
   ]
  },
  {
   "cell_type": "markdown",
   "metadata": {},
   "source": [
    "# Q11:"
   ]
  },
  {
   "cell_type": "markdown",
   "metadata": {},
   "source": [
    "Do the following to create a program that simulates how websites ensure that everyone has a unique username.\n",
    "\n",
    "•\t Make a list of five or more usernames called current_users.\n",
    "\n",
    "•\t Make another list of five usernames called new_users. \n",
    "Make sure one or two of the new usernames are also in the current_users list.\n",
    "\n",
    "•\t Loop through the new_users list to see if each new username has already been used. \n",
    "If it has, print a message that the person will need to enter a new username. \n",
    "If a username has not been used, print a message saying that the username is available.\n",
    "\n",
    "•\t Make sure your comparison is case insensitive. If 'John' has been used, 'JOHN' should not be accepted."
   ]
  },
  {
   "cell_type": "code",
   "execution_count": 24,
   "metadata": {},
   "outputs": [
    {
     "name": "stdout",
     "output_type": "stream",
     "text": [
      "all right  sumaira  that username is available.\n",
      "sorry sadia that user  name is taken\n",
      "sorry nadia that user  name is taken\n",
      "all right  anum  that username is available.\n",
      "sorry ramashaa that user  name is taken\n"
     ]
    }
   ],
   "source": [
    "current_users = ['sumaira','sadia','nadia','anum','ramashaa']\n",
    "new_users = ['ramashaa', 'sadia','nadia','urooj','hamid']\n",
    "v1 = [x.lower() for x in current_users]\n",
    "v2 = [x.lower()  for x in new_users]\n",
    "for s in v1:\n",
    "    if s in v2:\n",
    "        print('sorry' , s , 'that user  name is taken')\n",
    "    else:\n",
    "        print('all right ', s ,' that username is available.')"
   ]
  },
  {
   "cell_type": "markdown",
   "metadata": {},
   "source": [
    "# Q12:"
   ]
  },
  {
   "cell_type": "markdown",
   "metadata": {},
   "source": [
    "Use a dictionary to store information about a person you know.\n",
    "Store their first name, last name, age, and the city in which they live. \n",
    "You should have keys such as first_name, last_name, age, and city. \n",
    "Print each piece of information stored in your dictionary"
   ]
  },
  {
   "cell_type": "code",
   "execution_count": 30,
   "metadata": {},
   "outputs": [
    {
     "name": "stdout",
     "output_type": "stream",
     "text": [
      "{'first_name': 'sumaira', 'last_name': 'sufian', 'age': 100, 'city': 'karachi'}\n"
     ]
    }
   ],
   "source": [
    "first_dict = {\n",
    "    'first_name' : 'sumaira',\n",
    "    'last_name' : 'sufian',\n",
    "    'age' : 100 ,\n",
    "    'city' : 'karachi',\n",
    "}\n",
    "print(first_dict)"
   ]
  },
  {
   "cell_type": "markdown",
   "metadata": {},
   "source": [
    "# Q13:"
   ]
  },
  {
   "cell_type": "markdown",
   "metadata": {},
   "source": [
    "Starts with your last question 12 , loop through the dictionary’s keys and values.\n",
    "When you’re sure that your loop works, add five more Python terms to your\n",
    "dictionary . When you run your program again, these new words and meanings\n",
    "should automatically be included in the output."
   ]
  },
  {
   "cell_type": "code",
   "execution_count": 33,
   "metadata": {},
   "outputs": [
    {
     "name": "stdout",
     "output_type": "stream",
     "text": [
      "\n",
      "keys: first_name\n",
      "\n",
      "values: sumaira\n",
      "\n",
      "keys: last_name\n",
      "\n",
      "values: sufian\n",
      "\n",
      "keys: age\n",
      "\n",
      "values: 100\n",
      "\n",
      "keys: city\n",
      "\n",
      "values: karachi\n"
     ]
    }
   ],
   "source": [
    "first_dict = {\n",
    "    'first_name' : 'sumaira',\n",
    "    'last_name' : 'sufian',\n",
    "    'age' : 100 ,\n",
    "    'city' : 'karachi',\n",
    "}\n",
    "for keys,values in first_dict.items():\n",
    "    print('\\nkeys:',keys)\n",
    "    print('\\nvalues:',values)"
   ]
  },
  {
   "cell_type": "code",
   "execution_count": 48,
   "metadata": {},
   "outputs": [
    {
     "name": "stdout",
     "output_type": "stream",
     "text": [
      "'keys:'first_name  values sumaira\n",
      "'keys:'last_name  values sufian\n",
      "'keys:'age  values 100\n",
      "'keys:'city  values karachi\n",
      "'keys:'int  values numbers\n",
      "'keys:'string  values characters\n",
      "'keys:'boolean  values true or false\n",
      "'keys:'loop  values repetition of anything\n",
      "'keys:'list  values colection of data\n"
     ]
    }
   ],
   "source": [
    "first_dict = {\n",
    "    'first_name' : 'sumaira',\n",
    "    'last_name' : 'sufian',\n",
    "    'age' : '100' ,\n",
    "    'city' : 'karachi',\n",
    "    'int' : 'numbers',\n",
    "    'string' : 'characters',\n",
    "    'boolean' :  'true or false',\n",
    "    'loop': 'repetition of anything',\n",
    "    'list': 'colection of data',\n",
    "}\n",
    "for keys,values in first_dict.items():\n",
    "    print('keys:'+  keys + '  ' +'values'+ ' ' + values)\n",
    "    "
   ]
  },
  {
   "cell_type": "markdown",
   "metadata": {},
   "source": [
    "# Q14:"
   ]
  },
  {
   "cell_type": "markdown",
   "metadata": {},
   "source": [
    "Make a dictionary containing three major rivers and the country\n",
    "each river runs through. One key-value pair might be 'nile': 'egypt'.\n",
    "    \n",
    "    \n",
    "•\t Use a loop to print a sentence about each river, such as The Nile runs\n",
    "through Egypt.\n",
    "\n",
    "NOTE: use upper case through keys and values."
   ]
  },
  {
   "cell_type": "code",
   "execution_count": 56,
   "metadata": {},
   "outputs": [
    {
     "name": "stdout",
     "output_type": "stream",
     "text": [
      "The Jehlum runs through Pakistan\n",
      "The Yamuna runs through India\n",
      "The Nile runs through Egypt\n"
     ]
    }
   ],
   "source": [
    "rivers ={\n",
    "    'Jehlum' : 'Pakistan',\n",
    "    'Yamuna' : 'India',\n",
    "    'Nile' : 'Egypt',\n",
    "}\n",
    "for i,j in rivers.items():\n",
    "    print('The' +  ' '+ i +  ' ' + 'runs through' + ' ' + j )"
   ]
  },
  {
   "cell_type": "code",
   "execution_count": null,
   "metadata": {},
   "outputs": [],
   "source": []
  },
  {
   "cell_type": "code",
   "execution_count": null,
   "metadata": {},
   "outputs": [],
   "source": []
  },
  {
   "cell_type": "markdown",
   "metadata": {},
   "source": [
    "# Q15:"
   ]
  },
  {
   "cell_type": "markdown",
   "metadata": {},
   "source": [
    "Make several dictionaries, where the name of each dictionary is the\n",
    "name of a pet. In each dictionary, include the kind of animal and the owner’s\n",
    "name. Store these dictionaries in a list called pets. Next, loop through your list\n",
    "and as you do print everything you know about each pet."
   ]
  },
  {
   "cell_type": "code",
   "execution_count": 94,
   "metadata": {},
   "outputs": [
    {
     "name": "stdout",
     "output_type": "stream",
     "text": [
      "the name of petanimals is cats\n",
      "the name of owners_name is John\n",
      "the name of pet animal is Dogs\n",
      "the name of owners_name is Peter\n",
      "the name of pet animal is Rabbitss\n",
      "the name of owners_name is Susan\n"
     ]
    }
   ],
   "source": [
    "maano = {\n",
    "    'petanimals' : 'cats',\n",
    "    'owners_name' : 'John',\n",
    "}\n",
    "\n",
    "tuffy = {\n",
    "    'pet animal' : 'Dogs',\n",
    "    'owners_name' : 'Peter',   \n",
    "}\n",
    "\n",
    "ghousho = {\n",
    "    'pet animal' : 'Rabbitss',\n",
    "    'owners_name' : 'Susan',\n",
    "}\n",
    "list1 = []\n",
    "list1.append(maano)\n",
    "list1.append(tuffy)\n",
    "list1.append(ghousho)\n",
    "#print(list1)\n",
    "for animals in list1:\n",
    "    for i , j in animals.items():\n",
    "        print('the name of ' + i + ' ' + 'is ' + j )"
   ]
  }
 ],
 "metadata": {
  "kernelspec": {
   "display_name": "Python 3",
   "language": "python",
   "name": "python3"
  },
  "language_info": {
   "codemirror_mode": {
    "name": "ipython",
    "version": 3
   },
   "file_extension": ".py",
   "mimetype": "text/x-python",
   "name": "python",
   "nbconvert_exporter": "python",
   "pygments_lexer": "ipython3",
   "version": "3.7.3"
  }
 },
 "nbformat": 4,
 "nbformat_minor": 2
}
